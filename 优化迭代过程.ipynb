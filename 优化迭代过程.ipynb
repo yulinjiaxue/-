{
 "cells": [
  {
   "cell_type": "markdown",
   "metadata": {},
   "source": [
    "# 文字的加密"
   ]
  },
  {
   "cell_type": "markdown",
   "metadata": {},
   "source": [
    "## 替换式密码\n",
    "一.简易替换法(偏移3)\n",
    "1.问题的分解：逐字符替换->逐个字符->对应字符的替换（串对串的替换）->字符的拼接\n",
    "先实现，再完美\n",
    "2.实现思路：用循环遍历实现逐字符的读取,用串到串的替换，用字符的“和”实现合并"
   ]
  },
  {
   "cell_type": "code",
   "execution_count": 14,
   "metadata": {},
   "outputs": [
    {
     "ename": "ValueError",
     "evalue": "substring not found",
     "output_type": "error",
     "traceback": [
      "\u001b[1;31m---------------------------------------------------------------------------\u001b[0m",
      "\u001b[1;31mValueError\u001b[0m                                Traceback (most recent call last)",
      "Cell \u001b[1;32mIn [14], line 5\u001b[0m\n\u001b[0;32m      3\u001b[0m src_str\u001b[38;5;241m=\u001b[39m\u001b[38;5;124m'\u001b[39m\u001b[38;5;124mhello world!\u001b[39m\u001b[38;5;124m'\u001b[39m\n\u001b[0;32m      4\u001b[0m \u001b[38;5;28;01mfor\u001b[39;00m single_char \u001b[38;5;129;01min\u001b[39;00m src_str:\n\u001b[1;32m----> 5\u001b[0m     index\u001b[38;5;241m=\u001b[39malphabet_src\u001b[38;5;241m.\u001b[39mindex(single_char)\n",
      "\u001b[1;31mValueError\u001b[0m: substring not found"
     ]
    }
   ],
   "source": [
    "alphabet_src='abcdefghijklmnopqrstuvwxyz'\n",
    "alphabet_tar='defghijklmnopqrstuvwxyzabc'\n",
    "src_str='hello world!'\n",
    "for single_char in src_str:\n",
    "    index=alphabet_src.index(single_char) #找到字符在原串中对应的位置 "
   ]
  },
  {
   "cell_type": "markdown",
   "metadata": {},
   "source": [
    "#### 利用index函数来对原串中对应字符的索引位置，但是上述代码出现错误，问题在hello world中存在空格和叹号，解决方法是跳过不编码的字符，更改后的代码如下"
   ]
  },
  {
   "cell_type": "code",
   "execution_count": 9,
   "metadata": {},
   "outputs": [
    {
     "name": "stdout",
     "output_type": "stream",
     "text": [
      "khoor zruog!\n"
     ]
    }
   ],
   "source": [
    "alphabet_src='abcdefghijklmnopqrstuvwxyz'\n",
    "alphabet_tar='defghijklmnopqrstuvwxyzabc'\n",
    "src_str='hello world!'\n",
    "encrypted_str=''\n",
    "for single_char in src_str:\n",
    "    if single_char in alphabet_src:\n",
    "        index=alphabet_src.index(single_char) #找到字符在原串中对应的位置\n",
    "        encrypted_str=encrypted_str+alphabet_tar[index]\n",
    "    else:\n",
    "        encrypted_str=encrypted_str+single_char\n",
    "print(encrypted_str)"
   ]
  },
  {
   "cell_type": "markdown",
   "metadata": {},
   "source": [
    "##### 来到解密代码,将tar改为src，将src改为tar"
   ]
  },
  {
   "cell_type": "code",
   "execution_count": 13,
   "metadata": {},
   "outputs": [
    {
     "name": "stdout",
     "output_type": "stream",
     "text": [
      "hello world!\n"
     ]
    }
   ],
   "source": [
    "alphabet_src='abcdefghijklmnopqrstuvwxyz'\n",
    "alphabet_tar='defghijklmnopqrstuvwxyzabc'\n",
    "src_str='hello world!'#原串\n",
    "encrypted_str='khoor zruog!'#加密串\n",
    "decrypted_str=''\n",
    "for single_char in encrypted_str:\n",
    "    if single_char in alphabet_tar:\n",
    "        index=alphabet_tar.index(single_char) #找到字符在原串中对应的位置\n",
    "        decrypted_str=decrypted_str+alphabet_src[index]\n",
    "    else:\n",
    "        decrypted_str=decrypted_str+single_char\n",
    "print(decrypted_str)"
   ]
  },
  {
   "cell_type": "markdown",
   "metadata": {},
   "source": [
    "#### 上述的加密代码和解密代码可以封装为两个相应的函数,实现函数的封装"
   ]
  },
  {
   "cell_type": "code",
   "execution_count": 28,
   "metadata": {},
   "outputs": [
    {
     "name": "stdout",
     "output_type": "stream",
     "text": [
      "原串是： hello world!\n",
      "编码加密串是： khoor zruog!\n",
      "解码后的原串是： hello world!\n"
     ]
    }
   ],
   "source": [
    "alphabet_src='abcdefghijklmnopqrstuvwxyz'\n",
    "alphabet_tar='defghijklmnopqrstuvwxyzabc'\n",
    "def encryptIt(src_str):\n",
    "    encrypted_str=''\n",
    "    for single_char in src_str:\n",
    "        if single_char in alphabet_src:\n",
    "            index=alphabet_src.index(single_char) #找到字符在原串中对应的位置\n",
    "            encrypted_str=encrypted_str+alphabet_tar[index]\n",
    "        else:\n",
    "            encrypted_str=encrypted_str+single_char\n",
    "    return encrypted_str\n",
    "\n",
    "def decryptIt(encrypted_str):\n",
    "    decrypted_str=''\n",
    "    for single_char in encrypted_str:\n",
    "        if single_char in alphabet_tar:\n",
    "            index=alphabet_tar.index(single_char) #找到字符在原串中对应的位置\n",
    "            decrypted_str=decrypted_str+alphabet_src[index]\n",
    "        else:\n",
    "            decrypted_str=decrypted_str+single_char\n",
    "    return decrypted_str\n",
    "    \n",
    "if __name__=='__main__':\n",
    "    src_str='hello world!'\n",
    "    print(\"原串是：\",src_str)\n",
    "    encrypted_str=encryptIt(src_str)\n",
    "    print(\"编码加密串是：\",encrypted_str)\n",
    "    decrypted_str=decryptIt(encrypted_str)\n",
    "    print(\"解码后的原串是：\",decrypted_str)"
   ]
  },
  {
   "cell_type": "markdown",
   "metadata": {},
   "source": [
    "#### 函数的局部变量"
   ]
  },
  {
   "cell_type": "code",
   "execution_count": 26,
   "metadata": {},
   "outputs": [
    {
     "name": "stdout",
     "output_type": "stream",
     "text": [
      "2\n",
      "1\n"
     ]
    }
   ],
   "source": [
    "a=1\n",
    "def mytext():\n",
    "    a=2\n",
    "    print(a)\n",
    "mytext()\n",
    "print(a)"
   ]
  },
  {
   "cell_type": "markdown",
   "metadata": {},
   "source": [
    "设置全局变量"
   ]
  },
  {
   "cell_type": "code",
   "execution_count": 27,
   "metadata": {},
   "outputs": [
    {
     "name": "stdout",
     "output_type": "stream",
     "text": [
      "2\n",
      "2\n"
     ]
    }
   ],
   "source": [
    "a=1\n",
    "def mytext():\n",
    "    global a\n",
    "    a=2\n",
    "    print(a)\n",
    "mytext()\n",
    "print(a)"
   ]
  },
  {
   "cell_type": "markdown",
   "metadata": {},
   "source": [
    "测试代码：assert（）"
   ]
  },
  {
   "cell_type": "markdown",
   "metadata": {},
   "source": [
    "#### 如何给函数提供信息，便于使用help"
   ]
  },
  {
   "cell_type": "code",
   "execution_count": 36,
   "metadata": {},
   "outputs": [
    {
     "name": "stdout",
     "output_type": "stream",
     "text": [
      "Help on function encryptIt in module __main__:\n",
      "\n",
      "encryptIt(src_str: str) -> str\n",
      "    用于对字符串进行简单替换加密\n",
      "    输入参数：\n",
      "    src_str:原始文本内容\n",
      "    返回结果：加密文本\n",
      "\n"
     ]
    }
   ],
   "source": [
    "alphabet_src='abcdefghijklmnopqrstuvwxyz'\n",
    "alphabet_tar='defghijklmnopqrstuvwxyzabc'\n",
    "def encryptIt(src_str:str)->str:\n",
    "    \"\"\"\n",
    "    用于对字符串进行简单替换加密\n",
    "    输入参数：\n",
    "    src_str:原始文本内容\n",
    "    返回结果：加密文本\n",
    "\n",
    "    \"\"\"  \n",
    "    encrypted_str=''\n",
    "    for single_char in src_str:\n",
    "        if single_char in alphabet_src:\n",
    "            index=alphabet_src.index(single_char) #找到字符在原串中对应的位置\n",
    "            encrypted_str=encrypted_str+alphabet_tar[index]\n",
    "        else:\n",
    "            encrypted_str=encrypted_str+single_char\n",
    "    return encrypted_str\n",
    "help(encryptIt)"
   ]
  },
  {
   "cell_type": "markdown",
   "metadata": {},
   "source": [
    "#### 使用另外一种方式实现相同的功能（直接计算索引的位置）"
   ]
  },
  {
   "cell_type": "code",
   "execution_count": 40,
   "metadata": {},
   "outputs": [
    {
     "name": "stdout",
     "output_type": "stream",
     "text": [
      "I oryh brx!\n",
      "I love you!\n"
     ]
    }
   ],
   "source": [
    "alphabet_src='abcdefghijklmnopqrstuvwxyz'\n",
    "def encryptIt(src_str:str)->str:\n",
    "    encrypted_str=''\n",
    "    for single_char in src_str:\n",
    "        if single_char in alphabet_src:\n",
    "            old_index=alphabet_src.index(single_char)\n",
    "            new_index=(old_index+3)%26\n",
    "            encrypted_str=encrypted_str+alphabet_src[new_index]\n",
    "        else:\n",
    "            encrypted_str=encrypted_str+single_char\n",
    "    return encrypted_str\n",
    "\n",
    "\n",
    "def decryptIt(encrypted_str):\n",
    "    decrypted_str=''\n",
    "    for single_char in encrypted_str:\n",
    "        if single_char in alphabet_src:\n",
    "            old_index=alphabet_src.index(single_char)\n",
    "            new_index=(old_index-3)%26\n",
    "            decrypted_str=decrypted_str+alphabet_src[new_index]\n",
    "        else:\n",
    "            decrypted_str=decrypted_str+single_char\n",
    "    return decrypted_str\n",
    "\n",
    "print(encryptIt('I love you!'))\n",
    "print(decryptIt('I oryh brx!'))"
   ]
  },
  {
   "cell_type": "markdown",
   "metadata": {},
   "source": [
    "#### 再次优化，将上述的函数给合并,精简代码"
   ]
  },
  {
   "cell_type": "code",
   "execution_count": 3,
   "metadata": {},
   "outputs": [
    {
     "name": "stdout",
     "output_type": "stream",
     "text": [
      "I oryh brx!\n",
      "I love you!\n"
     ]
    }
   ],
   "source": [
    "alphabet_src='abcdefghijklmnopqrstuvwxyz'\n",
    "def cryptIt(src_str:str,if_decrypt:bool=False)->str:#设置if_decrypt默认参数\n",
    "    '''\n",
    "    用于对字符串进行简单替换加密/解密\n",
    "    输入参数：\n",
    "    src_str:原始文本内容\n",
    "    if_decrypt:True 表示解密过程，False表示加密过程\n",
    "    返回结果：加密/解密文本\n",
    "    '''\n",
    "    crypted_str=''\n",
    "    for single_char in src_str:\n",
    "        if single_char in alphabet_src:\n",
    "            old_index=alphabet_src.index(single_char)\n",
    "            #字符移位替换\n",
    "            if if_decrypt==False:\n",
    "                new_index=(old_index+3)%26\n",
    "            if if_decrypt==True:\n",
    "                new_index=(old_index-3)%26\n",
    "            crypted_str=crypted_str+alphabet_src[new_index]\n",
    "        else:\n",
    "            crypted_str=crypted_str+single_char\n",
    "    return crypted_str\n",
    "print(cryptIt('I love you!',False))\n",
    "print(cryptIt('I oryh brx!',True))"
   ]
  },
  {
   "cell_type": "markdown",
   "metadata": {},
   "source": [
    "#### 在之前的基础上继续优化精简"
   ]
  },
  {
   "cell_type": "code",
   "execution_count": 4,
   "metadata": {},
   "outputs": [
    {
     "name": "stdout",
     "output_type": "stream",
     "text": [
      "I oryh brx!\n",
      "I love you!\n"
     ]
    }
   ],
   "source": [
    "alphabet_src='abcdefghijklmnopqrstuvwxyz'\n",
    "def cryptIt(src_str:str,if_decrypt:bool=False)->str:#设置if_decrypt默认参数\n",
    "    '''\n",
    "    用于对字符串进行简单替换加密/解密\n",
    "    输入参数：\n",
    "    src_str:原始文本内容\n",
    "    if_decrypt:True 表示解密过程，False表示加密过程\n",
    "    返回结果：加密/解密文本\n",
    "    '''\n",
    "    crypted_str=''\n",
    "    for single_char in src_str:\n",
    "        if single_char in alphabet_src:\n",
    "            old_index=alphabet_src.index(single_char)\n",
    "            #字符移位替换\n",
    "            # if if_decrypt==False:\n",
    "            #     new_index=(old_index+3)%26\n",
    "            # if if_decrypt==True:\n",
    "            #     new_index=(old_index-3)%26\n",
    "            #将上述代码精简\n",
    "            new_index=(old_index-3)%26 if if_decrypt is True else (old_index+3)%26 \n",
    "            crypted_str+=alphabet_src[new_index]\n",
    "        else:\n",
    "            crypted_str+=single_char\n",
    "        \n",
    "    return crypted_str\n",
    "print(cryptIt('I love you!',False))\n",
    "print(cryptIt('I oryh brx!',True))"
   ]
  },
  {
   "cell_type": "markdown",
   "metadata": {},
   "source": [
    "#### 继续进行精简"
   ]
  },
  {
   "cell_type": "code",
   "execution_count": 5,
   "metadata": {},
   "outputs": [
    {
     "name": "stdout",
     "output_type": "stream",
     "text": [
      "I oryh brx!\n",
      "I love you!\n"
     ]
    }
   ],
   "source": [
    "alphabet_src='abcdefghijklmnopqrstuvwxyz'\n",
    "def cryptIt(src_str:str,if_decrypt:bool=False)->str:#设置if_decrypt默认参数\n",
    "    '''\n",
    "    用于对字符串进行简单替换加密/解密\n",
    "    输入参数：\n",
    "    src_str:原始文本内容\n",
    "    if_decrypt:True 表示解密过程，False表示加密过程\n",
    "    返回结果：加密/解密文本\n",
    "    '''\n",
    "    crypted_str=''\n",
    "    for single_char in src_str:\n",
    "        if single_char in alphabet_src:\n",
    "            #old_index=alphabet_src.index(single_char)\n",
    "            new_index=(alphabet_src.index(single_char)-3)%26 \\\n",
    "                if if_decrypt is True \\\n",
    "                else (alphabet_src.index(single_char)+3)%26 \n",
    "                #利用换行技巧\n",
    "            crypted_str+=alphabet_src[new_index]\n",
    "        else:\n",
    "            crypted_str+=single_char\n",
    "        \n",
    "    return crypted_str\n",
    "print(cryptIt('I love you!',False))\n",
    "print(cryptIt('I oryh brx!',True))"
   ]
  },
  {
   "cell_type": "markdown",
   "metadata": {},
   "source": [
    "#### 利用列表来精简代码, 可以用split函数将字符串转换为列表,从列表到字符串是join"
   ]
  },
  {
   "cell_type": "code",
   "execution_count": 6,
   "metadata": {},
   "outputs": [
    {
     "data": {
      "text/plain": [
       "['1', '2', '3', '4', '5', '6', '7']"
      ]
     },
     "execution_count": 6,
     "metadata": {},
     "output_type": "execute_result"
    }
   ],
   "source": [
    "'1 2 3 4 5 6 7'.split()"
   ]
  },
  {
   "cell_type": "code",
   "execution_count": 7,
   "metadata": {},
   "outputs": [
    {
     "data": {
      "text/plain": [
       "'123'"
      ]
     },
     "execution_count": 7,
     "metadata": {},
     "output_type": "execute_result"
    }
   ],
   "source": [
    "''.join(['1','2','3'])"
   ]
  },
  {
   "cell_type": "markdown",
   "metadata": {},
   "source": [
    "##### 利用append给列表添加元素"
   ]
  },
  {
   "cell_type": "code",
   "execution_count": 9,
   "metadata": {},
   "outputs": [],
   "source": [
    "a=[]\n",
    "a.append(1)"
   ]
  },
  {
   "cell_type": "markdown",
   "metadata": {},
   "source": [
    "##### 改代码,将crypted_str设定为空列表"
   ]
  },
  {
   "cell_type": "code",
   "execution_count": 10,
   "metadata": {},
   "outputs": [
    {
     "name": "stdout",
     "output_type": "stream",
     "text": [
      "I oryh brx!\n",
      "I love you!\n"
     ]
    }
   ],
   "source": [
    "alphabet_src='abcdefghijklmnopqrstuvwxyz'\n",
    "def cryptIt(src_str:str,if_decrypt:bool=False)->str:#设置if_decrypt默认参数\n",
    "    '''\n",
    "    用于对字符串进行简单替换加密/解密\n",
    "    输入参数：\n",
    "    src_str:原始文本内容\n",
    "    if_decrypt:True 表示解密过程，False表示加密过程\n",
    "    返回结果：加密/解密文本\n",
    "    '''\n",
    "    crypted_str=[]\n",
    "    for single_char in src_str:\n",
    "        if single_char in alphabet_src:\n",
    "            #old_index=alphabet_src.index(single_char)\n",
    "            new_index=(alphabet_src.index(single_char)-3)%26 \\\n",
    "                if if_decrypt is True \\\n",
    "                else (alphabet_src.index(single_char)+3)%26 \n",
    "                #利用换行技巧\n",
    "            crypted_str.append(alphabet_src[new_index])\n",
    "        else:\n",
    "            crypted_str.append(single_char)\n",
    "        \n",
    "    return ''.join(crypted_str)\n",
    "print(cryptIt('I love you!',False))\n",
    "print(cryptIt('I oryh brx!',True))"
   ]
  },
  {
   "cell_type": "markdown",
   "metadata": {},
   "source": [
    "#### 列表推导"
   ]
  },
  {
   "cell_type": "code",
   "execution_count": 23,
   "metadata": {},
   "outputs": [],
   "source": [
    "#最简单的方法\n",
    "a=[1,2,3]\n",
    "b=[]\n",
    "\n",
    "for e in a :\n",
    "    b.append(e + 1)\n",
    "a=b"
   ]
  },
  {
   "cell_type": "code",
   "execution_count": 22,
   "metadata": {},
   "outputs": [],
   "source": [
    "a= [e+1 for e in a ]"
   ]
  },
  {
   "cell_type": "markdown",
   "metadata": {},
   "source": [
    "##### 列表推导更快"
   ]
  },
  {
   "cell_type": "markdown",
   "metadata": {},
   "source": [
    "##### 开始缩减"
   ]
  },
  {
   "cell_type": "code",
   "execution_count": 24,
   "metadata": {},
   "outputs": [
    {
     "name": "stdout",
     "output_type": "stream",
     "text": [
      "I oryh brx!\n",
      "I love you!\n"
     ]
    }
   ],
   "source": [
    "alphabet_src='abcdefghijklmnopqrstuvwxyz'\n",
    "def cryptIt(src_str:str,if_decrypt:bool=False)->str:#设置if_decrypt默认参数\n",
    "    '''\n",
    "    用于对字符串进行简单替换加密/解密\n",
    "    输入参数：\n",
    "    src_str:原始文本内容\n",
    "    if_decrypt:True 表示解密过程，False表示加密过程\n",
    "    返回结果：加密/解密文本\n",
    "    '''\n",
    "    crypted_str=[]\n",
    "    for single_char in src_str:\n",
    "        if single_char in alphabet_src:\n",
    "\n",
    "            crypted_str.append(alphabet_src[(alphabet_src.index(single_char)-3)%26 \\\n",
    "                if if_decrypt is True \\\n",
    "                else (alphabet_src.index(single_char)+3)%26 ])\n",
    "                \n",
    "        else:\n",
    "            crypted_str.append(single_char)\n",
    "        \n",
    "    return ''.join(crypted_str)\n",
    "print(cryptIt('I love you!',False))\n",
    "print(cryptIt('I oryh brx!',True))"
   ]
  },
  {
   "cell_type": "markdown",
   "metadata": {},
   "source": [
    "##### 进一步化简"
   ]
  },
  {
   "cell_type": "code",
   "execution_count": 25,
   "metadata": {},
   "outputs": [
    {
     "name": "stdout",
     "output_type": "stream",
     "text": [
      "I oryh brx!\n",
      "I love you!\n"
     ]
    }
   ],
   "source": [
    "alphabet_src='abcdefghijklmnopqrstuvwxyz'\n",
    "def cryptIt(src_str:str,if_decrypt:bool=False)->str:#设置if_decrypt默认参数\n",
    "    '''\n",
    "    用于对字符串进行简单替换加密/解密\n",
    "    输入参数：\n",
    "    src_str:原始文本内容\n",
    "    if_decrypt:True 表示解密过程，False表示加密过程\n",
    "    返回结果：加密/解密文本\n",
    "    '''\n",
    "    crypted_str=[]\n",
    "    for single_char in src_str:\n",
    "         crypted_str.append(alphabet_src[(alphabet_src.index(single_char)-3)%26 \\\n",
    "                if if_decrypt is True \\\n",
    "                else (alphabet_src.index(single_char)+3)%26] \\\n",
    "                if single_char in alphabet_src else single_char)\n",
    "\n",
    "    return ''.join(crypted_str)\n",
    "print(cryptIt('I love you!',False))\n",
    "print(cryptIt('I oryh brx!',True))"
   ]
  },
  {
   "cell_type": "markdown",
   "metadata": {},
   "source": [
    "##### 再再再一次的精简\n"
   ]
  },
  {
   "cell_type": "code",
   "execution_count": 26,
   "metadata": {},
   "outputs": [
    {
     "name": "stdout",
     "output_type": "stream",
     "text": [
      "I oryh brx!\n",
      "I love you!\n"
     ]
    }
   ],
   "source": [
    "alphabet_src='abcdefghijklmnopqrstuvwxyz'\n",
    "def cryptIt(src_str:str,if_decrypt:bool=False)->str:#设置if_decrypt默认参数\n",
    "    '''\n",
    "    用于对字符串进行简单替换加密/解密\n",
    "    输入参数：\n",
    "    src_str:原始文本内容\n",
    "    if_decrypt:True 表示解密过程，False表示加密过程\n",
    "    返回结果：加密/解密文本\n",
    "    '''\n",
    "    crypted_str=[alphabet_src[(alphabet_src.index(single_char)-3)%26 \\\n",
    "                if if_decrypt is True \\\n",
    "                else (alphabet_src.index(single_char)+3)%26] \\\n",
    "                if single_char in alphabet_src else single_char for single_char in src_str]\n",
    "    return ''.join(crypted_str)\n",
    "print(cryptIt('I love you!',False))\n",
    "print(cryptIt('I oryh brx!',True))"
   ]
  },
  {
   "cell_type": "code",
   "execution_count": 27,
   "metadata": {},
   "outputs": [
    {
     "name": "stdout",
     "output_type": "stream",
     "text": [
      "I oryh brx!\n",
      "I love you!\n"
     ]
    }
   ],
   "source": [
    "alphabet_src='abcdefghijklmnopqrstuvwxyz'\n",
    "def cryptIt(src_str:str,if_decrypt:bool=False)->str:#设置if_decrypt默认参数\n",
    "    '''\n",
    "    用于对字符串进行简单替换加密/解密\n",
    "    输入参数：\n",
    "    src_str:原始文本内容\n",
    "    if_decrypt:True 表示解密过程，False表示加密过程\n",
    "    返回结果：加密/解密文本\n",
    "    '''\n",
    "    return ''.join([alphabet_src[(alphabet_src.index(single_char)-3)%26 \\\n",
    "                if if_decrypt is True \\\n",
    "                else (alphabet_src.index(single_char)+3)%26] \\\n",
    "                if single_char in alphabet_src else single_char \\\n",
    "                for single_char in src_str])\n",
    "print(cryptIt('I love you!',False))\n",
    "print(cryptIt('I oryh brx!',True))"
   ]
  },
  {
   "cell_type": "markdown",
   "metadata": {},
   "source": [
    "#### 精简之后，虽然代码长度减少了，但是可读性变得很为糟糕。无限的压缩并不是好事情，最好的压缩是在尽可能少的行数下能够保证可读性"
   ]
  },
  {
   "cell_type": "markdown",
   "metadata": {},
   "source": [
    "##### 回归最初,在可读性高的情况下进行代码的精简"
   ]
  },
  {
   "cell_type": "code",
   "execution_count": 1,
   "metadata": {},
   "outputs": [
    {
     "name": "stdout",
     "output_type": "stream",
     "text": [
      "原串是： hello world!\n",
      "编码加密串是： khoor zruog!\n",
      "解码后的原串是： hello world!\n"
     ]
    }
   ],
   "source": [
    "def convert_char(single_char,operation):\n",
    "    '''\n",
    "    对单个字符进行加密\n",
    "    single_char:要加密的单个字符\n",
    "    operation：加密还是解密,encrypt->加密 decrypt->解密\n",
    "    返回结果，加密/解密后的单个字符\n",
    "    '''\n",
    "    ALPHABET_SRC='abcdefghijklmnopqrstuvwxyz'\n",
    "    ALPHABET_TAR='defghijklmnopqrstuvwxyzabc'\n",
    "    #约定俗成，全大写的变量认为是常量，不再修改\n",
    "    result=''\n",
    "    if single_char in ALPHABET_SRC:\n",
    "        if operation == 'encrypt':\n",
    "            result=ALPHABET_TAR[ALPHABET_SRC.index(single_char)]\n",
    "        elif operation == 'decrypt':\n",
    "            result=ALPHABET_SRC[ALPHABET_TAR.index(single_char)]\n",
    "    else:\n",
    "        result=single_char\n",
    "    return result\n",
    "def encrypt_it(src_str):\n",
    "    '''\n",
    "    对字符串进行加密\n",
    "    '''\n",
    "    global alphabet_src,alphabet_tar\n",
    "    encrypted_str=''\n",
    "    for single_char in src_str:\n",
    "        encrypted_str+=convert_char(single_char,'encrypt')\n",
    "    return encrypted_str\n",
    "\n",
    "def decrypt_it(encrypted_str):\n",
    "    '''\n",
    "    对字符串进行解密\n",
    "    '''\n",
    "    global alphabet_src,alphabet_tar\n",
    "    decrypted_str=''\n",
    "    for single_char in encrypted_str:\n",
    "        decrypted_str+=convert_char(single_char,'decrypt')\n",
    "    return decrypted_str\n",
    "    \n",
    "if __name__=='__main__':\n",
    "    src_str='hello world!'\n",
    "    print(\"原串是：\",src_str)\n",
    "    encrypted_str=encrypt_it(src_str)\n",
    "    print(\"编码加密串是：\",encrypted_str)\n",
    "    decrypted_str=decrypt_it(encrypted_str)\n",
    "    print(\"解码后的原串是：\",decrypted_str)"
   ]
  },
  {
   "cell_type": "markdown",
   "metadata": {},
   "source": [
    "## 字母表位置偏移"
   ]
  },
  {
   "cell_type": "code",
   "execution_count": 2,
   "metadata": {},
   "outputs": [
    {
     "name": "stdout",
     "output_type": "stream",
     "text": [
      "原串是： hello world!\n",
      "编码加密串是： rovvy gybvn!\n",
      "解码后的原串是： hello world!\n"
     ]
    }
   ],
   "source": [
    "def convert_char(single_char,operation):\n",
    "    '''\n",
    "    对单个字符进行加密\n",
    "    single_char:要加密的单个字符\n",
    "    operation：加密还是解密,encrypt->加密 decrypt->解密\n",
    "    返回结果，加密/解密后的单个字符\n",
    "    '''\n",
    "    ALPHABET_SRC='abcdefghijklmnopqrstuvwxyz'\n",
    "    OFFSET=10\n",
    "    #约定俗成，全大写的变量认为是常量，不再修改\n",
    "    result=''\n",
    "    if single_char in ALPHABET_SRC:\n",
    "        if operation == 'encrypt':\n",
    "            result=ALPHABET_SRC[(ALPHABET_SRC.index(single_char)+OFFSET)%26]\n",
    "        elif operation == 'decrypt':\n",
    "            result=ALPHABET_SRC[(ALPHABET_SRC.index(single_char)-OFFSET)%26]\n",
    "    else:\n",
    "        result=single_char\n",
    "    return result\n",
    "def encrypt_it(src_str):\n",
    "    '''\n",
    "    对字符串进行加密\n",
    "    '''\n",
    "    global alphabet_src,alphabet_tar\n",
    "    encrypted_str=''\n",
    "    for single_char in src_str:\n",
    "        encrypted_str+=convert_char(single_char,'encrypt')\n",
    "    return encrypted_str\n",
    "\n",
    "def decrypt_it(encrypted_str):\n",
    "    '''\n",
    "    对字符串进行解密\n",
    "    '''\n",
    "    global alphabet_src,alphabet_tar\n",
    "    decrypted_str=''\n",
    "    for single_char in encrypted_str:\n",
    "        decrypted_str+=convert_char(single_char,'decrypt')\n",
    "    return decrypted_str\n",
    "    \n",
    "if __name__=='__main__':\n",
    "    src_str='hello world!'\n",
    "    print(\"原串是：\",src_str)\n",
    "    encrypted_str=encrypt_it(src_str)\n",
    "    print(\"编码加密串是：\",encrypted_str)\n",
    "    decrypted_str=decrypt_it(encrypted_str)\n",
    "    print(\"解码后的原串是：\",decrypted_str)"
   ]
  },
  {
   "cell_type": "markdown",
   "metadata": {},
   "source": [
    "##### 用ASCII码偏移置换（33~126）"
   ]
  },
  {
   "cell_type": "markdown",
   "metadata": {},
   "source": [
    "利用ord函数来获得ASCII码"
   ]
  },
  {
   "cell_type": "code",
   "execution_count": 3,
   "metadata": {},
   "outputs": [
    {
     "data": {
      "text/plain": [
       "33"
      ]
     },
     "execution_count": 3,
     "metadata": {},
     "output_type": "execute_result"
    }
   ],
   "source": [
    "ord('!')"
   ]
  },
  {
   "cell_type": "code",
   "execution_count": 6,
   "metadata": {},
   "outputs": [
    {
     "data": {
      "text/plain": [
       "43"
      ]
     },
     "execution_count": 6,
     "metadata": {},
     "output_type": "execute_result"
    }
   ],
   "source": [
    "((ord('!')-33+10)%(126-33+1)+33)"
   ]
  },
  {
   "cell_type": "code",
   "execution_count": 8,
   "metadata": {},
   "outputs": [
    {
     "name": "stdout",
     "output_type": "stream",
     "text": [
      "原串是： hello world!\n",
      "编码加密串是： rovvy #y|vn+\n",
      "解码后的原串是： hello world!\n"
     ]
    }
   ],
   "source": [
    "def convert_char(single_char,operation):\n",
    "    '''\n",
    "    对单个字符进行加密\n",
    "    single_char:要加密的单个字符\n",
    "    operation：加密还是解密,encrypt->加密 decrypt->解密\n",
    "    返回结果，加密/解密后的单个字符\n",
    "    '''\n",
    "    OFFSET=10\n",
    "    #约定俗成，全大写的变量认为是常量，不再修改\n",
    "    result=''\n",
    "    if ord(single_char) >=33 and ord(single_char)<=126:\n",
    "        if operation == 'encrypt':\n",
    "            result=chr((ord(single_char)-33+OFFSET)%(126-33+1)+33)\n",
    "        elif operation == 'decrypt':\n",
    "            result=chr((ord(single_char)-33-OFFSET)%(126-33+1)+33)\n",
    "    else:\n",
    "        result=single_char\n",
    "    return result\n",
    "def encrypt_it(src_str):\n",
    "    '''\n",
    "    对字符串进行加密\n",
    "    '''\n",
    "    global alphabet_src,alphabet_tar\n",
    "    encrypted_str=''\n",
    "    for single_char in src_str:\n",
    "        encrypted_str+=convert_char(single_char,'encrypt')\n",
    "    return encrypted_str\n",
    "\n",
    "def decrypt_it(encrypted_str):\n",
    "    '''\n",
    "    对字符串进行解密\n",
    "    '''\n",
    "    global alphabet_src,alphabet_tar\n",
    "    decrypted_str=''\n",
    "    for single_char in encrypted_str:\n",
    "        decrypted_str+=convert_char(single_char,'decrypt')\n",
    "    return decrypted_str\n",
    "    \n",
    "if __name__=='__main__':\n",
    "    src_str='hello world!'\n",
    "    print(\"原串是：\",src_str)\n",
    "    encrypted_str=encrypt_it(src_str)\n",
    "    print(\"编码加密串是：\",encrypted_str)\n",
    "    decrypted_str=decrypt_it(encrypted_str)\n",
    "    print(\"解码后的原串是：\",decrypted_str)"
   ]
  },
  {
   "cell_type": "markdown",
   "metadata": {},
   "source": [
    "#### 表对表的升级"
   ]
  },
  {
   "cell_type": "markdown",
   "metadata": {},
   "source": [
    "利用random库获取一个打乱的码本"
   ]
  },
  {
   "cell_type": "code",
   "execution_count": 11,
   "metadata": {},
   "outputs": [
    {
     "name": "stdout",
     "output_type": "stream",
     "text": [
      "[4, 2, 1, 3, 5]\n"
     ]
    }
   ],
   "source": [
    "import random\n",
    "a=[1,2,3,4,5]\n",
    "random.shuffle(a)\n",
    "print(a)"
   ]
  },
  {
   "cell_type": "code",
   "execution_count": 13,
   "metadata": {},
   "outputs": [],
   "source": [
    "alphabet_src=[chr(i) for i in range(33,127)]#获取顺序的字符码表\n",
    "alphabet_tar=alphabet_src\n",
    "random.shuffle(alphabet_tar)#获取乱序的码表"
   ]
  },
  {
   "cell_type": "markdown",
   "metadata": {},
   "source": [
    "但是这种复制方式会使得tar 和src指向同一片内存空间，最终两者仍然相同 所以采用下面的方式进行复制"
   ]
  },
  {
   "cell_type": "code",
   "execution_count": null,
   "metadata": {},
   "outputs": [],
   "source": [
    "alphabet_src=[chr(i) for i in range(33,127)]#获取顺序的字符码表\n",
    "alphabet_tar=alphabet_src.copy()\n",
    "random.shuffle(alphabet_tar)#获取乱序的码表"
   ]
  },
  {
   "cell_type": "code",
   "execution_count": 4,
   "metadata": {},
   "outputs": [
    {
     "name": "stdout",
     "output_type": "stream",
     "text": [
      "原串是： hello world!\n",
      "编码加密串是： ;>55M YM45e&\n",
      "解码后的原串是： hello world!\n"
     ]
    }
   ],
   "source": [
    "import random\n",
    "ALPHABET_SRC=[chr(i) for i in range(33,127)]\n",
    "ALPHABET_TAR=ALPHABET_SRC.copy()\n",
    "random.shuffle(ALPHABET_TAR)\n",
    "def convert_char(single_char,operation):\n",
    "    '''\n",
    "    对单个字符进行加密\n",
    "    single_char:要加密的单个字符\n",
    "    operation：加密还是解密,encrypt->加密 decrypt->解密\n",
    "    返回结果，加密/解密后的单个字符\n",
    "    '''\n",
    "\n",
    "    global ALPHABET_SRC,ALPHABET_TAR\n",
    "    result=''\n",
    "    if ord(single_char) >=33 and ord(single_char)<=126:\n",
    "        if operation == 'encrypt':\n",
    "            result=ALPHABET_TAR[ALPHABET_SRC.index(single_char)]\n",
    "        elif operation == 'decrypt':\n",
    "            result=ALPHABET_SRC[ALPHABET_TAR.index(single_char)]\n",
    "    else:\n",
    "        result=single_char\n",
    "    return result\n",
    "def encrypt_it(src_str):\n",
    "    '''\n",
    "    对字符串进行加密\n",
    "    '''\n",
    "    global alphabet_src,alphabet_tar\n",
    "    encrypted_str=''\n",
    "    for single_char in src_str:\n",
    "        encrypted_str+=convert_char(single_char,'encrypt')\n",
    "    return encrypted_str\n",
    "\n",
    "def decrypt_it(encrypted_str):\n",
    "    '''\n",
    "    对字符串进行解密\n",
    "    '''\n",
    "    global alphabet_src,alphabet_tar\n",
    "    decrypted_str=''\n",
    "    for single_char in encrypted_str:\n",
    "        decrypted_str+=convert_char(single_char,'decrypt')\n",
    "    return decrypted_str\n",
    "    \n",
    "if __name__=='__main__':\n",
    "    src_str='hello world!'\n",
    "    print(\"原串是：\",src_str)\n",
    "    encrypted_str=encrypt_it(src_str)\n",
    "    print(\"编码加密串是：\",encrypted_str)\n",
    "    decrypted_str=decrypt_it(encrypted_str)\n",
    "    print(\"解码后的原串是：\",decrypted_str)"
   ]
  },
  {
   "cell_type": "markdown",
   "metadata": {},
   "source": [
    "##### 上述代码实现了随机生成码本，但是随之而来的问题，这个码本在每次程序运行的时候都会改变，只能在自己的程序中实现解密加密，实现不了加密传输再解密的功能"
   ]
  },
  {
   "cell_type": "markdown",
   "metadata": {},
   "source": [
    "##### 因此对其进行修改 使用序列化"
   ]
  },
  {
   "cell_type": "code",
   "execution_count": 6,
   "metadata": {},
   "outputs": [
    {
     "data": {
      "text/plain": [
       "b'\\x80\\x04\\x95A\\x02\\x00\\x00\\x00\\x00\\x00\\x00]\\x94(]\\x94(\\x8c\\x01!\\x94\\x8c\\x01\"\\x94\\x8c\\x01#\\x94\\x8c\\x01$\\x94\\x8c\\x01%\\x94\\x8c\\x01&\\x94\\x8c\\x01\\'\\x94\\x8c\\x01(\\x94\\x8c\\x01)\\x94\\x8c\\x01*\\x94\\x8c\\x01+\\x94\\x8c\\x01,\\x94\\x8c\\x01-\\x94\\x8c\\x01.\\x94\\x8c\\x01/\\x94\\x8c\\x010\\x94\\x8c\\x011\\x94\\x8c\\x012\\x94\\x8c\\x013\\x94\\x8c\\x014\\x94\\x8c\\x015\\x94\\x8c\\x016\\x94\\x8c\\x017\\x94\\x8c\\x018\\x94\\x8c\\x019\\x94\\x8c\\x01:\\x94\\x8c\\x01;\\x94\\x8c\\x01<\\x94\\x8c\\x01=\\x94\\x8c\\x01>\\x94\\x8c\\x01?\\x94\\x8c\\x01@\\x94\\x8c\\x01A\\x94\\x8c\\x01B\\x94\\x8c\\x01C\\x94\\x8c\\x01D\\x94\\x8c\\x01E\\x94\\x8c\\x01F\\x94\\x8c\\x01G\\x94\\x8c\\x01H\\x94\\x8c\\x01I\\x94\\x8c\\x01J\\x94\\x8c\\x01K\\x94\\x8c\\x01L\\x94\\x8c\\x01M\\x94\\x8c\\x01N\\x94\\x8c\\x01O\\x94\\x8c\\x01P\\x94\\x8c\\x01Q\\x94\\x8c\\x01R\\x94\\x8c\\x01S\\x94\\x8c\\x01T\\x94\\x8c\\x01U\\x94\\x8c\\x01V\\x94\\x8c\\x01W\\x94\\x8c\\x01X\\x94\\x8c\\x01Y\\x94\\x8c\\x01Z\\x94\\x8c\\x01[\\x94\\x8c\\x01\\\\\\x94\\x8c\\x01]\\x94\\x8c\\x01^\\x94\\x8c\\x01_\\x94\\x8c\\x01`\\x94\\x8c\\x01a\\x94\\x8c\\x01b\\x94\\x8c\\x01c\\x94\\x8c\\x01d\\x94\\x8c\\x01e\\x94\\x8c\\x01f\\x94\\x8c\\x01g\\x94\\x8c\\x01h\\x94\\x8c\\x01i\\x94\\x8c\\x01j\\x94\\x8c\\x01k\\x94\\x8c\\x01l\\x94\\x8c\\x01m\\x94\\x8c\\x01n\\x94\\x8c\\x01o\\x94\\x8c\\x01p\\x94\\x8c\\x01q\\x94\\x8c\\x01r\\x94\\x8c\\x01s\\x94\\x8c\\x01t\\x94\\x8c\\x01u\\x94\\x8c\\x01v\\x94\\x8c\\x01w\\x94\\x8c\\x01x\\x94\\x8c\\x01y\\x94\\x8c\\x01z\\x94\\x8c\\x01{\\x94\\x8c\\x01|\\x94\\x8c\\x01}\\x94\\x8c\\x01~\\x94e]\\x94(hKhVh&h\\x08h\\x0eh[hXhAh;h\\x1eh/h\\x1ch\\x04h$h,hYhPh-h5h\\x10h\\x02hTh7h h\\x15h.h\\x0bhHh8h*h<hBh\\x03hLh_h\\x12h4h\\x17hMh>h)h\\x1ah\\nhCh\\x19h\\x0chZhJh1h\\x16h\\x1fh\\x06hEh\\x1dh2h+h#hWh\\x18hQhRh\\rh\\x1bh\\x14h:h\\'h\\x11h]hNh\\\\hGhDh0h\\th\\x07h?hOh!h%h9h^h\"h\\x05hIh=hShFh3h@h\\x13hUh\\x0fh(h6ee.'"
      ]
     },
     "execution_count": 6,
     "metadata": {},
     "output_type": "execute_result"
    }
   ],
   "source": [
    "import pickle\n",
    "import random\n",
    "alphabet_src=[chr(i) for i in range(33,127)]\n",
    "alphabet_tar=alphabet_src.copy()\n",
    "random.shuffle(alphabet_tar)\n",
    "pickle.dumps([alphabet_src,alphabet_tar])\n"
   ]
  },
  {
   "cell_type": "code",
   "execution_count": 7,
   "metadata": {},
   "outputs": [
    {
     "data": {
      "text/plain": [
       "[['!',\n",
       "  '\"',\n",
       "  '#',\n",
       "  '$',\n",
       "  '%',\n",
       "  '&',\n",
       "  \"'\",\n",
       "  '(',\n",
       "  ')',\n",
       "  '*',\n",
       "  '+',\n",
       "  ',',\n",
       "  '-',\n",
       "  '.',\n",
       "  '/',\n",
       "  '0',\n",
       "  '1',\n",
       "  '2',\n",
       "  '3',\n",
       "  '4',\n",
       "  '5',\n",
       "  '6',\n",
       "  '7',\n",
       "  '8',\n",
       "  '9',\n",
       "  ':',\n",
       "  ';',\n",
       "  '<',\n",
       "  '=',\n",
       "  '>',\n",
       "  '?',\n",
       "  '@',\n",
       "  'A',\n",
       "  'B',\n",
       "  'C',\n",
       "  'D',\n",
       "  'E',\n",
       "  'F',\n",
       "  'G',\n",
       "  'H',\n",
       "  'I',\n",
       "  'J',\n",
       "  'K',\n",
       "  'L',\n",
       "  'M',\n",
       "  'N',\n",
       "  'O',\n",
       "  'P',\n",
       "  'Q',\n",
       "  'R',\n",
       "  'S',\n",
       "  'T',\n",
       "  'U',\n",
       "  'V',\n",
       "  'W',\n",
       "  'X',\n",
       "  'Y',\n",
       "  'Z',\n",
       "  '[',\n",
       "  '\\\\',\n",
       "  ']',\n",
       "  '^',\n",
       "  '_',\n",
       "  '`',\n",
       "  'a',\n",
       "  'b',\n",
       "  'c',\n",
       "  'd',\n",
       "  'e',\n",
       "  'f',\n",
       "  'g',\n",
       "  'h',\n",
       "  'i',\n",
       "  'j',\n",
       "  'k',\n",
       "  'l',\n",
       "  'm',\n",
       "  'n',\n",
       "  'o',\n",
       "  'p',\n",
       "  'q',\n",
       "  'r',\n",
       "  's',\n",
       "  't',\n",
       "  'u',\n",
       "  'v',\n",
       "  'w',\n",
       "  'x',\n",
       "  'y',\n",
       "  'z',\n",
       "  '{',\n",
       "  '|',\n",
       "  '}',\n",
       "  '~'],\n",
       " ['j',\n",
       "  'u',\n",
       "  'E',\n",
       "  \"'\",\n",
       "  '-',\n",
       "  'z',\n",
       "  'w',\n",
       "  '`',\n",
       "  'Z',\n",
       "  '=',\n",
       "  'N',\n",
       "  ';',\n",
       "  '#',\n",
       "  'C',\n",
       "  'K',\n",
       "  'x',\n",
       "  'o',\n",
       "  'L',\n",
       "  'T',\n",
       "  '/',\n",
       "  '!',\n",
       "  's',\n",
       "  'V',\n",
       "  '?',\n",
       "  '4',\n",
       "  'M',\n",
       "  '*',\n",
       "  'g',\n",
       "  'W',\n",
       "  'I',\n",
       "  '[',\n",
       "  'a',\n",
       "  '\"',\n",
       "  'k',\n",
       "  '~',\n",
       "  '1',\n",
       "  'S',\n",
       "  '6',\n",
       "  'l',\n",
       "  ']',\n",
       "  'H',\n",
       "  '9',\n",
       "  ')',\n",
       "  'b',\n",
       "  '8',\n",
       "  '+',\n",
       "  'y',\n",
       "  'i',\n",
       "  'P',\n",
       "  '5',\n",
       "  '>',\n",
       "  '%',\n",
       "  'd',\n",
       "  '<',\n",
       "  'Q',\n",
       "  'J',\n",
       "  'B',\n",
       "  'v',\n",
       "  '7',\n",
       "  'p',\n",
       "  'q',\n",
       "  ',',\n",
       "  ':',\n",
       "  '3',\n",
       "  'Y',\n",
       "  'F',\n",
       "  '0',\n",
       "  '|',\n",
       "  'm',\n",
       "  '{',\n",
       "  'f',\n",
       "  'c',\n",
       "  'O',\n",
       "  '(',\n",
       "  '&',\n",
       "  '^',\n",
       "  'n',\n",
       "  '@',\n",
       "  'D',\n",
       "  'X',\n",
       "  '}',\n",
       "  'A',\n",
       "  '$',\n",
       "  'h',\n",
       "  '\\\\',\n",
       "  'r',\n",
       "  'e',\n",
       "  'R',\n",
       "  '_',\n",
       "  '2',\n",
       "  't',\n",
       "  '.',\n",
       "  'G',\n",
       "  'U']]"
      ]
     },
     "execution_count": 7,
     "metadata": {},
     "output_type": "execute_result"
    }
   ],
   "source": [
    "pickle.loads(pickle.dumps([alphabet_src,alphabet_tar]))"
   ]
  },
  {
   "cell_type": "markdown",
   "metadata": {},
   "source": [
    "##### 进行文件操作 open()"
   ]
  },
  {
   "cell_type": "code",
   "execution_count": 1,
   "metadata": {},
   "outputs": [],
   "source": [
    "f=open('test.txt','w')"
   ]
  },
  {
   "cell_type": "code",
   "execution_count": 2,
   "metadata": {},
   "outputs": [
    {
     "data": {
      "text/plain": [
       "15"
      ]
     },
     "execution_count": 2,
     "metadata": {},
     "output_type": "execute_result"
    }
   ],
   "source": [
    "f.write('123123234235345')"
   ]
  },
  {
   "cell_type": "code",
   "execution_count": 3,
   "metadata": {},
   "outputs": [],
   "source": [
    "f.close()"
   ]
  },
  {
   "cell_type": "markdown",
   "metadata": {},
   "source": [
    "##### 生成随机编码并将其放入文件中"
   ]
  },
  {
   "cell_type": "code",
   "execution_count": 8,
   "metadata": {},
   "outputs": [],
   "source": [
    "import pickle\n",
    "import random\n",
    "alphabet_src=[chr(i) for i in range(33,127)]\n",
    "alphabet_tar=alphabet_src.copy()\n",
    "random.shuffle(alphabet_tar)\n",
    "f=open('key.dat','wb')\n",
    "f.write(pickle.dumps([alphabet_src,alphabet_tar]))\n",
    "f.close()"
   ]
  },
  {
   "cell_type": "markdown",
   "metadata": {},
   "source": [
    "##### 然后需要将得到的dat文件读取出来"
   ]
  },
  {
   "cell_type": "code",
   "execution_count": 11,
   "metadata": {},
   "outputs": [
    {
     "name": "stdout",
     "output_type": "stream",
     "text": [
      "[['!', '\"', '#', '$', '%', '&', \"'\", '(', ')', '*', '+', ',', '-', '.', '/', '0', '1', '2', '3', '4', '5', '6', '7', '8', '9', ':', ';', '<', '=', '>', '?', '@', 'A', 'B', 'C', 'D', 'E', 'F', 'G', 'H', 'I', 'J', 'K', 'L', 'M', 'N', 'O', 'P', 'Q', 'R', 'S', 'T', 'U', 'V', 'W', 'X', 'Y', 'Z', '[', '\\\\', ']', '^', '_', '`', 'a', 'b', 'c', 'd', 'e', 'f', 'g', 'h', 'i', 'j', 'k', 'l', 'm', 'n', 'o', 'p', 'q', 'r', 's', 't', 'u', 'v', 'w', 'x', 'y', 'z', '{', '|', '}', '~'], ['F', 'R', '3', '5', 'P', '8', ';', ']', '$', 'i', '4', ':', '?', '\"', 'E', '/', 'y', 'z', 'b', 'L', 'k', ',', '9', '_', 'd', 'G', 'q', '^', '0', '6', '|', 'X', '1', 'm', '7', 'J', 's', '!', 'B', '[', 'W', 'U', 'r', 't', 'n', 'Z', 'H', '{', 'g', 'w', 'v', '-', '.', 'h', 'p', '*', 'c', 'N', '}', '=', 'Y', 'M', '+', 'o', '<', 'e', 'u', 'V', 'I', 'T', ')', \"'\", 'S', 'D', '~', 'l', 'C', 'A', 'O', 'Q', '(', '%', 'f', 'j', 'K', 'x', '@', '\\\\', '&', '`', '2', '>', '#', 'a']]\n"
     ]
    }
   ],
   "source": [
    "with open('key.dat','rb') as f:\n",
    "    print(pickle.loads(f.read()))"
   ]
  },
  {
   "cell_type": "markdown",
   "metadata": {},
   "source": [
    "##### 使用更加简便的方式"
   ]
  },
  {
   "cell_type": "code",
   "execution_count": 14,
   "metadata": {},
   "outputs": [],
   "source": [
    "pickle.dump([alphabet_src,alphabet_tar],open('key1.dat','wb'))"
   ]
  },
  {
   "cell_type": "code",
   "execution_count": 15,
   "metadata": {},
   "outputs": [
    {
     "data": {
      "text/plain": [
       "[['!',\n",
       "  '\"',\n",
       "  '#',\n",
       "  '$',\n",
       "  '%',\n",
       "  '&',\n",
       "  \"'\",\n",
       "  '(',\n",
       "  ')',\n",
       "  '*',\n",
       "  '+',\n",
       "  ',',\n",
       "  '-',\n",
       "  '.',\n",
       "  '/',\n",
       "  '0',\n",
       "  '1',\n",
       "  '2',\n",
       "  '3',\n",
       "  '4',\n",
       "  '5',\n",
       "  '6',\n",
       "  '7',\n",
       "  '8',\n",
       "  '9',\n",
       "  ':',\n",
       "  ';',\n",
       "  '<',\n",
       "  '=',\n",
       "  '>',\n",
       "  '?',\n",
       "  '@',\n",
       "  'A',\n",
       "  'B',\n",
       "  'C',\n",
       "  'D',\n",
       "  'E',\n",
       "  'F',\n",
       "  'G',\n",
       "  'H',\n",
       "  'I',\n",
       "  'J',\n",
       "  'K',\n",
       "  'L',\n",
       "  'M',\n",
       "  'N',\n",
       "  'O',\n",
       "  'P',\n",
       "  'Q',\n",
       "  'R',\n",
       "  'S',\n",
       "  'T',\n",
       "  'U',\n",
       "  'V',\n",
       "  'W',\n",
       "  'X',\n",
       "  'Y',\n",
       "  'Z',\n",
       "  '[',\n",
       "  '\\\\',\n",
       "  ']',\n",
       "  '^',\n",
       "  '_',\n",
       "  '`',\n",
       "  'a',\n",
       "  'b',\n",
       "  'c',\n",
       "  'd',\n",
       "  'e',\n",
       "  'f',\n",
       "  'g',\n",
       "  'h',\n",
       "  'i',\n",
       "  'j',\n",
       "  'k',\n",
       "  'l',\n",
       "  'm',\n",
       "  'n',\n",
       "  'o',\n",
       "  'p',\n",
       "  'q',\n",
       "  'r',\n",
       "  's',\n",
       "  't',\n",
       "  'u',\n",
       "  'v',\n",
       "  'w',\n",
       "  'x',\n",
       "  'y',\n",
       "  'z',\n",
       "  '{',\n",
       "  '|',\n",
       "  '}',\n",
       "  '~'],\n",
       " ['F',\n",
       "  'R',\n",
       "  '3',\n",
       "  '5',\n",
       "  'P',\n",
       "  '8',\n",
       "  ';',\n",
       "  ']',\n",
       "  '$',\n",
       "  'i',\n",
       "  '4',\n",
       "  ':',\n",
       "  '?',\n",
       "  '\"',\n",
       "  'E',\n",
       "  '/',\n",
       "  'y',\n",
       "  'z',\n",
       "  'b',\n",
       "  'L',\n",
       "  'k',\n",
       "  ',',\n",
       "  '9',\n",
       "  '_',\n",
       "  'd',\n",
       "  'G',\n",
       "  'q',\n",
       "  '^',\n",
       "  '0',\n",
       "  '6',\n",
       "  '|',\n",
       "  'X',\n",
       "  '1',\n",
       "  'm',\n",
       "  '7',\n",
       "  'J',\n",
       "  's',\n",
       "  '!',\n",
       "  'B',\n",
       "  '[',\n",
       "  'W',\n",
       "  'U',\n",
       "  'r',\n",
       "  't',\n",
       "  'n',\n",
       "  'Z',\n",
       "  'H',\n",
       "  '{',\n",
       "  'g',\n",
       "  'w',\n",
       "  'v',\n",
       "  '-',\n",
       "  '.',\n",
       "  'h',\n",
       "  'p',\n",
       "  '*',\n",
       "  'c',\n",
       "  'N',\n",
       "  '}',\n",
       "  '=',\n",
       "  'Y',\n",
       "  'M',\n",
       "  '+',\n",
       "  'o',\n",
       "  '<',\n",
       "  'e',\n",
       "  'u',\n",
       "  'V',\n",
       "  'I',\n",
       "  'T',\n",
       "  ')',\n",
       "  \"'\",\n",
       "  'S',\n",
       "  'D',\n",
       "  '~',\n",
       "  'l',\n",
       "  'C',\n",
       "  'A',\n",
       "  'O',\n",
       "  'Q',\n",
       "  '(',\n",
       "  '%',\n",
       "  'f',\n",
       "  'j',\n",
       "  'K',\n",
       "  'x',\n",
       "  '@',\n",
       "  '\\\\',\n",
       "  '&',\n",
       "  '`',\n",
       "  '2',\n",
       "  '>',\n",
       "  '#',\n",
       "  'a']]"
      ]
     },
     "execution_count": 15,
     "metadata": {},
     "output_type": "execute_result"
    }
   ],
   "source": [
    "pickle.load(open('key1.dat','rb'))"
   ]
  },
  {
   "cell_type": "markdown",
   "metadata": {},
   "source": [
    "## 升级版的表到表加密"
   ]
  },
  {
   "cell_type": "markdown",
   "metadata": {},
   "source": [
    "##### 用字典来进行优化"
   ]
  },
  {
   "cell_type": "code",
   "execution_count": null,
   "metadata": {},
   "outputs": [],
   "source": [
    "a={\n",
    "    'a':'b',\n",
    "    'c':'d',\n",
    "}\n",
    "a=dict() #定义空字典"
   ]
  },
  {
   "cell_type": "code",
   "execution_count": 19,
   "metadata": {},
   "outputs": [],
   "source": [
    "import random\n",
    "ALPHABET_SRC=[chr(i) for i in range(33,127)]\n",
    "ALPHABET_TAR=ALPHABET_SRC.copy()\n",
    "random.shuffle(ALPHABET_TAR)\n",
    "ALPHABET_S2t_dict=dict()\n",
    "ALPHABET_t2s_dict=dict()\n",
    "for i in range(len(ALPHABET_SRC)):\n",
    "    ALPHABET_S2t_dict[ALPHABET_SRC[i]]=ALPHABET_TAR[i]\n",
    "    ALPHABET_t2s_dict[ALPHABET_TAR[i]]=ALPHABET_SRC[i]"
   ]
  },
  {
   "cell_type": "code",
   "execution_count": 21,
   "metadata": {},
   "outputs": [
    {
     "name": "stdout",
     "output_type": "stream",
     "text": [
      "原串是： hello world!\n",
      "编码加密串是： +=rrP nPzr)]\n",
      "解码后的原串是： hello world!\n"
     ]
    }
   ],
   "source": [
    "def convert_char(single_char,operation):\n",
    "    '''\n",
    "    对单个字符进行加密\n",
    "    single_char:要加密的单个字符\n",
    "    operation：加密还是解密,encrypt->加密 decrypt->解密\n",
    "    返回结果，加密/解密后的单个字符\n",
    "    '''\n",
    "\n",
    "    global ALPHABET_SRC,ALPHABET_TAR\n",
    "    result=''\n",
    "    if ord(single_char) >=33 and ord(single_char)<=126:\n",
    "        if operation == 'encrypt':\n",
    "            result=ALPHABET_S2t_dict[single_char]\n",
    "        elif operation == 'decrypt':\n",
    "            result=ALPHABET_t2s_dict[single_char]\n",
    "    else:\n",
    "        result=single_char\n",
    "    return result\n",
    "def encrypt_it(src_str):\n",
    "    '''\n",
    "    对字符串进行加密\n",
    "    '''\n",
    "    global alphabet_src,alphabet_tar\n",
    "    encrypted_str=''\n",
    "    for single_char in src_str:\n",
    "        encrypted_str+=convert_char(single_char,'encrypt')\n",
    "    return encrypted_str\n",
    "\n",
    "def decrypt_it(encrypted_str):\n",
    "    '''\n",
    "    对字符串进行解密\n",
    "    '''\n",
    "    global alphabet_src,alphabet_tar\n",
    "    decrypted_str=''\n",
    "    for single_char in encrypted_str:\n",
    "        decrypted_str+=convert_char(single_char,'decrypt')\n",
    "    return decrypted_str\n",
    "    \n",
    "if __name__=='__main__':\n",
    "    src_str='hello world!'\n",
    "    print(\"原串是：\",src_str)\n",
    "    encrypted_str=encrypt_it(src_str)\n",
    "    print(\"编码加密串是：\",encrypted_str)\n",
    "    decrypted_str=decrypt_it(encrypted_str)\n",
    "    print(\"解码后的原串是：\",decrypted_str)"
   ]
  },
  {
   "cell_type": "code",
   "execution_count": 1,
   "metadata": {},
   "outputs": [],
   "source": [
    "a=dict()"
   ]
  },
  {
   "cell_type": "code",
   "execution_count": 2,
   "metadata": {},
   "outputs": [],
   "source": [
    "a[1]={1,2,4}\n",
    "a[3]={1,2,3}"
   ]
  },
  {
   "cell_type": "code",
   "execution_count": 3,
   "metadata": {},
   "outputs": [
    {
     "data": {
      "text/plain": [
       "True"
      ]
     },
     "execution_count": 3,
     "metadata": {},
     "output_type": "execute_result"
    }
   ],
   "source": [
    "1 in a#表示的是是否有用名的键"
   ]
  },
  {
   "cell_type": "code",
   "execution_count": 4,
   "metadata": {},
   "outputs": [
    {
     "data": {
      "text/plain": [
       "False"
      ]
     },
     "execution_count": 4,
     "metadata": {},
     "output_type": "execute_result"
    }
   ],
   "source": [
    "2 in a "
   ]
  },
  {
   "cell_type": "code",
   "execution_count": 5,
   "metadata": {},
   "outputs": [
    {
     "name": "stdout",
     "output_type": "stream",
     "text": [
      "1\n",
      "3\n"
     ]
    }
   ],
   "source": [
    "for i in a:\n",
    "    print(i)#得到的也是键"
   ]
  },
  {
   "cell_type": "markdown",
   "metadata": {},
   "source": [
    "想要遍历值"
   ]
  },
  {
   "cell_type": "code",
   "execution_count": 6,
   "metadata": {},
   "outputs": [
    {
     "data": {
      "text/plain": [
       "dict_keys([1, 3])"
      ]
     },
     "execution_count": 6,
     "metadata": {},
     "output_type": "execute_result"
    }
   ],
   "source": [
    "a.keys()#返回一个列表，包含字典里所有的键"
   ]
  },
  {
   "cell_type": "code",
   "execution_count": 7,
   "metadata": {},
   "outputs": [
    {
     "data": {
      "text/plain": [
       "dict_values([{1, 2, 4}, {1, 2, 3}])"
      ]
     },
     "execution_count": 7,
     "metadata": {},
     "output_type": "execute_result"
    }
   ],
   "source": [
    "a.values()#返回值"
   ]
  },
  {
   "cell_type": "code",
   "execution_count": 8,
   "metadata": {},
   "outputs": [
    {
     "data": {
      "text/plain": [
       "dict_items([(1, {1, 2, 4}), (3, {1, 2, 3})])"
      ]
     },
     "execution_count": 8,
     "metadata": {},
     "output_type": "execute_result"
    }
   ],
   "source": [
    "a.items()#返回键值对"
   ]
  },
  {
   "cell_type": "code",
   "execution_count": 10,
   "metadata": {},
   "outputs": [
    {
     "name": "stdout",
     "output_type": "stream",
     "text": [
      "1 {1, 2, 4}\n",
      "3 {1, 2, 3}\n"
     ]
    }
   ],
   "source": [
    "for k,v in a.items():\n",
    "    print(k,v)"
   ]
  },
  {
   "cell_type": "markdown",
   "metadata": {},
   "source": [
    "#### 减少全局变量的使用，引入类的使用"
   ]
  },
  {
   "cell_type": "code",
   "execution_count": null,
   "metadata": {},
   "outputs": [],
   "source": [
    "import random\n",
    "ALPHABET_SRC=[chr(i) for i in range(33,127)]\n",
    "ALPHABET_TAR=ALPHABET_SRC.copy()\n",
    "random.shuffle(ALPHABET_TAR)\n",
    "ALPHABET_S2t_dict=dict()\n",
    "ALPHABET_t2s_dict=dict()\n",
    "for i in range(len(ALPHABET_SRC)):\n",
    "    ALPHABET_S2t_dict[ALPHABET_SRC[i]]=ALPHABET_TAR[i]\n",
    "    ALPHABET_t2s_dict[ALPHABET_TAR[i]]=ALPHABET_SRC[i]"
   ]
  },
  {
   "cell_type": "markdown",
   "metadata": {},
   "source": [
    "在类的公共区域内的变量最好为不可变的变量，可变变量或者在函数内会被修改的变量最好放到实例空间内"
   ]
  },
  {
   "cell_type": "code",
   "execution_count": 4,
   "metadata": {},
   "outputs": [],
   "source": [
    "import random\n",
    "class CryptIt(): \n",
    "    \n",
    "    def __init__(self):\n",
    "        self.ALPHABET_SRC=[chr(i) for i in range(33,127)]\n",
    "        self.ALPHABET_TAR=self.ALPHABET_SRC.copy()\n",
    "        self.ALPHABET_S2t_dict=dict()\n",
    "        self.ALPHABET_t2s_dict=dict()\n",
    "        random.shuffle(self.ALPHABET_TAR)\n",
    "        for i in range(len(self.ALPHABET_SRC)):\n",
    "            self.ALPHABET_S2t_dict[self.ALPHABET_SRC[i]]=self.ALPHABET_TAR[i]\n",
    "            self.ALPHABET_t2s_dict[self.ALPHABET_TAR[i]]=self.ALPHABET_SRC[i]\n",
    "\n",
    "    def convert_char(self,single_char,operation):\n",
    "        '''\n",
    "    对单个字符进行加密\n",
    "    single_char:要加密的单个字符\n",
    "    operation：加密还是解密,encrypt->加密 decrypt->解密\n",
    "    返回结果，加密/解密后的单个字符\n",
    "    '''\n",
    "        result=''\n",
    "        if ord(single_char) >=33 and ord(single_char)<=126:\n",
    "            if operation == 'encrypt':\n",
    "                result=self.ALPHABET_S2t_dict[single_char]\n",
    "            elif operation == 'decrypt':\n",
    "                result=self.ALPHABET_t2s_dict[single_char]\n",
    "        else:\n",
    "            result=single_char\n",
    "        return result\n",
    "    def encrypt_it(self,src_str):\n",
    "        '''\n",
    "        对字符串进行加密\n",
    "        '''\n",
    "        encrypted_str=''\n",
    "        for single_char in src_str:\n",
    "            encrypted_str+=self.convert_char(single_char,'encrypt')\n",
    "        return encrypted_str\n",
    "\n",
    "    def decrypt_it(self,encrypted_str):\n",
    "        '''\n",
    "        对字符串进行解密\n",
    "        '''\n",
    "        decrypted_str=''\n",
    "        for single_char in encrypted_str:\n",
    "            decrypted_str+=self.convert_char(single_char,'decrypt')\n",
    "        return decrypted_str\n",
    "\n",
    "    def assert_crypt(self):\n",
    "        assert(self.decrypt_it(self.encrypt_it('AbCdefgh')=='AbCdefgh'))\n",
    "    "
   ]
  },
  {
   "cell_type": "code",
   "execution_count": 5,
   "metadata": {},
   "outputs": [],
   "source": [
    "my_crypt=CryptIt()"
   ]
  },
  {
   "cell_type": "code",
   "execution_count": 6,
   "metadata": {},
   "outputs": [
    {
     "data": {
      "text/plain": [
       "<__main__.CryptIt at 0x260719afd60>"
      ]
     },
     "execution_count": 6,
     "metadata": {},
     "output_type": "execute_result"
    }
   ],
   "source": [
    "my_crypt"
   ]
  },
  {
   "cell_type": "code",
   "execution_count": 7,
   "metadata": {},
   "outputs": [
    {
     "data": {
      "text/plain": [
       "['!',\n",
       " '\"',\n",
       " '#',\n",
       " '$',\n",
       " '%',\n",
       " '&',\n",
       " \"'\",\n",
       " '(',\n",
       " ')',\n",
       " '*',\n",
       " '+',\n",
       " ',',\n",
       " '-',\n",
       " '.',\n",
       " '/',\n",
       " '0',\n",
       " '1',\n",
       " '2',\n",
       " '3',\n",
       " '4',\n",
       " '5',\n",
       " '6',\n",
       " '7',\n",
       " '8',\n",
       " '9',\n",
       " ':',\n",
       " ';',\n",
       " '<',\n",
       " '=',\n",
       " '>',\n",
       " '?',\n",
       " '@',\n",
       " 'A',\n",
       " 'B',\n",
       " 'C',\n",
       " 'D',\n",
       " 'E',\n",
       " 'F',\n",
       " 'G',\n",
       " 'H',\n",
       " 'I',\n",
       " 'J',\n",
       " 'K',\n",
       " 'L',\n",
       " 'M',\n",
       " 'N',\n",
       " 'O',\n",
       " 'P',\n",
       " 'Q',\n",
       " 'R',\n",
       " 'S',\n",
       " 'T',\n",
       " 'U',\n",
       " 'V',\n",
       " 'W',\n",
       " 'X',\n",
       " 'Y',\n",
       " 'Z',\n",
       " '[',\n",
       " '\\\\',\n",
       " ']',\n",
       " '^',\n",
       " '_',\n",
       " '`',\n",
       " 'a',\n",
       " 'b',\n",
       " 'c',\n",
       " 'd',\n",
       " 'e',\n",
       " 'f',\n",
       " 'g',\n",
       " 'h',\n",
       " 'i',\n",
       " 'j',\n",
       " 'k',\n",
       " 'l',\n",
       " 'm',\n",
       " 'n',\n",
       " 'o',\n",
       " 'p',\n",
       " 'q',\n",
       " 'r',\n",
       " 's',\n",
       " 't',\n",
       " 'u',\n",
       " 'v',\n",
       " 'w',\n",
       " 'x',\n",
       " 'y',\n",
       " 'z',\n",
       " '{',\n",
       " '|',\n",
       " '}',\n",
       " '~']"
      ]
     },
     "execution_count": 7,
     "metadata": {},
     "output_type": "execute_result"
    }
   ],
   "source": [
    "my_crypt.ALPHABET_SRC"
   ]
  },
  {
   "cell_type": "code",
   "execution_count": 8,
   "metadata": {},
   "outputs": [
    {
     "data": {
      "text/plain": [
       "'ZQ;OeYpP'"
      ]
     },
     "execution_count": 8,
     "metadata": {},
     "output_type": "execute_result"
    }
   ],
   "source": [
    "my_crypt.encrypt_it('AbCdefgh')"
   ]
  },
  {
   "cell_type": "code",
   "execution_count": 10,
   "metadata": {},
   "outputs": [
    {
     "data": {
      "text/plain": [
       "'AbCdefgh'"
      ]
     },
     "execution_count": 10,
     "metadata": {},
     "output_type": "execute_result"
    }
   ],
   "source": [
    "my_crypt.decrypt_it('ZQ;OeYpP')"
   ]
  },
  {
   "cell_type": "markdown",
   "metadata": {},
   "source": [
    "不同类的实例化之后的tar表都不一样"
   ]
  },
  {
   "cell_type": "code",
   "execution_count": 60,
   "metadata": {},
   "outputs": [],
   "source": [
    "my_crypt1=CryptIt()\n"
   ]
  },
  {
   "cell_type": "code",
   "execution_count": 64,
   "metadata": {},
   "outputs": [
    {
     "name": "stdout",
     "output_type": "stream",
     "text": [
      "b~8gaGAH\n"
     ]
    }
   ],
   "source": [
    "print(my_crypt1.encrypt_it('AbCdefgh'))"
   ]
  },
  {
   "cell_type": "code",
   "execution_count": 62,
   "metadata": {},
   "outputs": [],
   "source": [
    "my_crypt2=CryptIt()"
   ]
  },
  {
   "cell_type": "code",
   "execution_count": 63,
   "metadata": {},
   "outputs": [
    {
     "name": "stdout",
     "output_type": "stream",
     "text": [
      ",64xOw/S\n"
     ]
    }
   ],
   "source": [
    "print(my_crypt2.encrypt_it('AbCdefgh'))"
   ]
  }
 ],
 "metadata": {
  "kernelspec": {
   "display_name": "Python 3.10.1 64-bit",
   "language": "python",
   "name": "python3"
  },
  "language_info": {
   "codemirror_mode": {
    "name": "ipython",
    "version": 3
   },
   "file_extension": ".py",
   "mimetype": "text/x-python",
   "name": "python",
   "nbconvert_exporter": "python",
   "pygments_lexer": "ipython3",
   "version": "3.10.1"
  },
  "orig_nbformat": 4,
  "vscode": {
   "interpreter": {
    "hash": "ff64f9aa78cbe77d14337fd91a7236559e53312d688f24386cf30866b2a7b6d2"
   }
  }
 },
 "nbformat": 4,
 "nbformat_minor": 2
}
